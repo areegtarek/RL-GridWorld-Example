{
  "nbformat": 4,
  "nbformat_minor": 0,
  "metadata": {
    "colab": {
      "provenance": [],
      "authorship_tag": "ABX9TyPXldkef64KhoPOByNTHhKj",
      "include_colab_link": true
    },
    "kernelspec": {
      "name": "python3",
      "display_name": "Python 3"
    },
    "language_info": {
      "name": "python"
    }
  },
  "cells": [
    {
      "cell_type": "markdown",
      "metadata": {
        "id": "view-in-github",
        "colab_type": "text"
      },
      "source": [
        "<a href=\"https://colab.research.google.com/github/areegtarek/RL-GridWorld-Example/blob/main/GridWorld_Example.ipynb\" target=\"_parent\"><img src=\"https://colab.research.google.com/assets/colab-badge.svg\" alt=\"Open In Colab\"/></a>"
      ]
    },
    {
      "cell_type": "markdown",
      "source": [
        "# **GridWorld Example**"
      ],
      "metadata": {
        "id": "sIYRSnDYXl3p"
      }
    },
    {
      "cell_type": "markdown",
      "source": [
        "Here we calculate the state value functions for all states in the GridWorld example"
      ],
      "metadata": {
        "id": "KEYvR14sguWE"
      }
    },
    {
      "cell_type": "markdown",
      "source": [
        "![1_iX-Fu5YzUZ8CNEZ86BvfKA.webp](data:image/webp;base64,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)\n",
        "\n",
        "![1_TRIdyydG-Z5fdv4bsgNEjA.webp](data:image/webp;base64,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)\n",
        "\n",
        "\n"
      ],
      "metadata": {
        "id": "YerBgFARZYuG"
      }
    },
    {
      "cell_type": "markdown",
      "source": [
        "The goal is to find the optimal policy for an agent to navigate through a 5x5 gridworld. The agent can move up, down, left, or right, but the movement is stochastic, meaning that there is a 0.25 probability that the agent will move in each of the four directions."
      ],
      "metadata": {
        "id": "CEb_GUgxnHdR"
      }
    },
    {
      "cell_type": "code",
      "source": [
        "import numpy as np\n",
        "\n",
        "discount_rates = [0.75, 0.85, 0.9]\n",
        "output = np.zeros((len(discount_rates), 5, 5))\n",
        "\n",
        "for k, Y in enumerate(discount_rates):\n",
        "    grid = np.zeros((5,5))\n",
        "    for num in range(10): #number of times we will go through the whole grid\n",
        "        for i in range(5):      #all the rows\n",
        "            for j in range(5):    #all the columns\n",
        "\n",
        "                up_grid = grid[i-1][j] if i > 0 else 0   #if going up takes us out of the grid then its value be 0\n",
        "                down_grid = grid[i+1][j] if i < 4 else 0  #if going down takes us out of the grid then its value be 0\n",
        "                left_grid = grid[i][j-1] if j > 0 else 0  #if going left takes us out of the grid then its value be 0\n",
        "                right_grid = grid[i][j+1] if j < 4 else 0  #if going right takes us outof the grid then its value be 0\n",
        "\n",
        "                all_dirs = [up_grid, down_grid, left_grid, right_grid]\n",
        "\n",
        "                value=0  \n",
        "                if i==0 and j==1: # the position of A\n",
        "                    value = 10 + Y*grid[4][1]\n",
        "                elif i==0 and j==3: # the position of B\n",
        "                    value = 5 + Y*grid[2][3]\n",
        "                else:\n",
        "                    for direc in all_dirs:\n",
        "                        if direc != 0: \n",
        "                            value += .25 * (0 + Y*direc)  #if we don't go out of the grid\n",
        "                        else:\n",
        "                            value += .25 * (-1 + Y*grid[i][j]) #if we go out of the grid\n",
        "\n",
        "                grid[i][j] = value   \n",
        "\n",
        "    output[k] = np.round(grid, 1)\n",
        "\n",
        "print(output)"
      ],
      "metadata": {
        "colab": {
          "base_uri": "https://localhost:8080/"
        },
        "id": "z7mrhJ7DfzIk",
        "outputId": "08c43d50-22af-4f9f-c688-78b6b2233176"
      },
      "execution_count": null,
      "outputs": [
        {
          "output_type": "stream",
          "name": "stdout",
          "text": [
            "[[[ 2.2  9.4  3.3  5.1  0.7]\n",
            "  [ 0.7  2.2  1.3  1.2  0.1]\n",
            "  [-0.2  0.4  0.3  0.2 -0.4]\n",
            "  [-0.7 -0.3 -0.2 -0.3 -0.8]\n",
            "  [-1.3 -0.8 -0.7 -0.8 -1.3]]\n",
            "\n",
            " [[ 2.9  9.   4.   5.2  1.2]\n",
            "  [ 1.2  2.7  1.9  1.6  0.3]\n",
            "  [-0.1  0.6  0.5  0.3 -0.4]\n",
            "  [-0.9 -0.4 -0.3 -0.5 -1. ]\n",
            "  [-1.6 -1.1 -1.  -1.2 -1.7]]\n",
            "\n",
            " [[ 3.3  8.8  4.4  5.3  1.5]\n",
            "  [ 1.5  3.   2.2  1.9  0.5]\n",
            "  [ 0.   0.7  0.7  0.4 -0.4]\n",
            "  [-1.  -0.4 -0.3 -0.6 -1.2]\n",
            "  [-1.9 -1.3 -1.2 -1.4 -1.9]]]\n"
          ]
        }
      ]
    }
  ]
}